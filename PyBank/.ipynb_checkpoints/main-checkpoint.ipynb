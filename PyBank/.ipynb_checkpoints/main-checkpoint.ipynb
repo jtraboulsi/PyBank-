{
 "cells": [
  {
   "cell_type": "code",
   "execution_count": 3,
   "id": "5dc8547d-1006-4ad4-90b5-8729dd3e43bf",
   "metadata": {
    "tags": []
   },
   "outputs": [
    {
     "name": "stdout",
     "output_type": "stream",
     "text": [
      "\n"
     ]
    }
   ],
   "source": [
    "from pathlib import Path\n",
    "import csv\n",
    "\n",
    "budgetpath= Path(\"budget_data.csv\")\n",
    "\n",
    "total_periods=0\n",
    "total_profit= 0\n",
    "average_profit=0\n",
    "profit_change=[]\n",
    "increase = [\"\",0]\n",
    "decrease = [\"\",9999999999]\n",
    "\n",
    "with open(budgetpath,'r') as budget_csv:\n",
    "    \n",
    "    budget= csv.reader(budget_csv, delimiter=',')\n",
    "    \n",
    "    header = next(budget)\n",
    "    \n",
    "    header = next(budget)\n",
    "    \n",
    "    total_profit += int(header[1])\n",
    "    prev_profit = int(header[1])\n",
    "    total_periods+=1\n",
    "    \n",
    "    for data in budget: \n",
    "        \n",
    "        total_periods += 1\n",
    "        total_profit += int(data[1])\n",
    "        \n",
    "        profit = int(data[1])\n",
    "        \n",
    "        change_in_profit = profit-prev_profit\n",
    "        \n",
    "        prev_profit = profit\n",
    "        \n",
    "        profit_change.append(change_in_profit)\n",
    "    \n",
    "        if change_in_profit > increase[1]:\n",
    "            increase[1] = change_in_profit\n",
    "            increase[0] = data[0] \n",
    "            \n",
    "        if decrease[1] == 99999999:\n",
    "            decrease[1]=99999999\n",
    "        elif change_in_profit<decrease[1]:\n",
    "            decrease[1] = change_in_profit\n",
    "            decrease[0] = data[0]\n",
    "       \n",
    "           \n",
    "\n",
    "average_profit= sum(profit_change)/ len(profit_change)\n",
    "       \n",
    "        \n",
    "number_of_months =f'Total number of months: {total_periods}'\n",
    "profits=f'Total profit: ${round(total_profit,2)}'\n",
    "average=f'Average change: ${round(average_profit,2)}' \n",
    "greatest_increase = f'Greatest Increase in Profits: {increase[0]} ${increase[1]})'\n",
    "greatest_decrease = f'the greatest decrease in profit: ({decrease[0]} ${decrease[1]})'\n",
    "\n",
    "print()\n",
    "output_path=Path(\"financial analysis results.txt\")\n",
    "\n",
    "with open(output_path,'w') as output:\n",
    "    output.write(\"Financial Analysis\\n\")\n",
    "    output.write(\"..........................\\n\")\n",
    "    output.write(number_of_months)\n",
    "    output.write(\"\\n\")\n",
    "    output.write(profits)\n",
    "    output.write(\"\\n\")\n",
    "    output.write(average)\n",
    "    output.write(\"\\n\")\n",
    "    output.write(greatest_increase)\n",
    "    output.write(\"\\n\")\n",
    "    output.write(greatest_decrease)\n",
    "    "
   ]
  },
  {
   "cell_type": "code",
   "execution_count": null,
   "id": "dca3b09a-9f6f-4635-9991-b5b989f27ebb",
   "metadata": {},
   "outputs": [],
   "source": []
  }
 ],
 "metadata": {
  "kernelspec": {
   "display_name": "Python 3",
   "language": "python",
   "name": "python3"
  },
  "language_info": {
   "codemirror_mode": {
    "name": "ipython",
    "version": 3
   },
   "file_extension": ".py",
   "mimetype": "text/x-python",
   "name": "python",
   "nbconvert_exporter": "python",
   "pygments_lexer": "ipython3",
   "version": "3.7.10"
  }
 },
 "nbformat": 4,
 "nbformat_minor": 5
}
